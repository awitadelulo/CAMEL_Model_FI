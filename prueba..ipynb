{
 "cells": [
  {
   "cell_type": "code",
   "execution_count": 1,
   "id": "39c84c23",
   "metadata": {},
   "outputs": [],
   "source": [
    "import pandas as pd"
   ]
  },
  {
   "cell_type": "code",
   "execution_count": 2,
   "id": "b0b41f5d",
   "metadata": {},
   "outputs": [],
   "source": [
    "data=pd.read_excel(\"resultados/Datos_2013_2025_cooperativas.xlsx\")"
   ]
  },
  {
   "cell_type": "code",
   "execution_count": 3,
   "id": "141177f0",
   "metadata": {},
   "outputs": [],
   "source": [
    "#no hay valores vacios\n",
    "#nulls=list(data.isnull().sum())\n",
    "#nulls"
   ]
  },
  {
   "cell_type": "code",
   "execution_count": 4,
   "id": "52ecf4cc",
   "metadata": {},
   "outputs": [
    {
     "data": {
      "text/plain": [
       "292703"
      ]
     },
     "execution_count": 4,
     "metadata": {},
     "output_type": "execute_result"
    }
   ],
   "source": [
    "len(data)"
   ]
  },
  {
   "cell_type": "code",
   "execution_count": 5,
   "id": "e6f2d90f",
   "metadata": {},
   "outputs": [],
   "source": [
    "#data.loc[(data['fecha'].dt.year==2014) & (data['fecha'].dt.month==1)]"
   ]
  },
  {
   "cell_type": "code",
   "execution_count": 6,
   "id": "f5d543b6",
   "metadata": {},
   "outputs": [
    {
     "name": "stdout",
     "output_type": "stream",
     "text": [
      "Años con todos los meses: [2013, 2014, 2015, 2016, 2017, 2018, 2019, 2020, 2021, 2022, 2023, 2024]\n",
      "Años incompletos: [2025]\n"
     ]
    }
   ],
   "source": [
    "df=data.copy()\n",
    "# Asegúrate de que la columna sea de tipo datetime\n",
    "df['fecha'] = pd.to_datetime(df['fecha'])\n",
    "\n",
    "# Extrae año y mes\n",
    "df['año'] = df['fecha'].dt.year\n",
    "df['mes'] = df['fecha'].dt.month\n",
    "\n",
    "# Agrupa por año y cuenta los meses únicos por año\n",
    "meses_por_año = df.groupby('año')['mes'].nunique()\n",
    "\n",
    "# Verifica si todos los años tienen 12 meses\n",
    "años_completos = meses_por_año[meses_por_año == 12]\n",
    "\n",
    "print(\"Años con todos los meses:\", años_completos.index.tolist())\n",
    "print(\"Años incompletos:\", meses_por_año[meses_por_año < 12].index.tolist())"
   ]
  },
  {
   "cell_type": "code",
   "execution_count": 7,
   "id": "efac4ece",
   "metadata": {},
   "outputs": [
    {
     "name": "stdout",
     "output_type": "stream",
     "text": [
      "Año 2022 tiene los siguientes meses faltantes: []\n",
      "Año 2023 tiene los siguientes meses faltantes: []\n",
      "Año 2024 tiene los siguientes meses faltantes: []\n",
      "Año 2025 tiene los siguientes meses faltantes: [4, 5, 6, 7, 8, 9, 10, 11, 12]\n",
      "Año 2015 tiene los siguientes meses faltantes: []\n",
      "Año 2016 tiene los siguientes meses faltantes: []\n",
      "Año 2018 tiene los siguientes meses faltantes: []\n",
      "Año 2019 tiene los siguientes meses faltantes: []\n",
      "Año 2017 tiene los siguientes meses faltantes: []\n",
      "Año 2020 tiene los siguientes meses faltantes: []\n",
      "Año 2021 tiene los siguientes meses faltantes: []\n",
      "Año 2013 tiene los siguientes meses faltantes: []\n",
      "Año 2014 tiene los siguientes meses faltantes: []\n"
     ]
    }
   ],
   "source": [
    "import pandas as pd\n",
    "\n",
    "# Genera todos los meses posibles para cada año\n",
    "todos_los_meses = {año: set(range(1, 13)) for año in df['año'].unique()}\n",
    "\n",
    "# Agrupa por año y obtiene los meses presentes\n",
    "meses_presentes = df.groupby('año')['mes'].apply(set)\n",
    "\n",
    "# Calcula los meses faltantes\n",
    "meses_faltantes = {año: todos_los_meses[año] - meses_presentes.get(año, set()) for año in todos_los_meses}\n",
    "\n",
    "# Mostrar los meses faltantes\n",
    "for año, meses in meses_faltantes.items():\n",
    "    print(f\"Año {año} tiene los siguientes meses faltantes: {sorted(list(meses))}\")\n"
   ]
  },
  {
   "cell_type": "code",
   "execution_count": 8,
   "id": "c4a2815c",
   "metadata": {},
   "outputs": [
    {
     "name": "stdout",
     "output_type": "stream",
     "text": [
      "149\n"
     ]
    }
   ],
   "source": [
    "import os\n",
    "\n",
    "def contar_todo(ruta):\n",
    "    return len(os.listdir(ruta))\n",
    "\n",
    "# Ejemplo\n",
    "print(contar_todo(\"Data_historico\"))"
   ]
  }
 ],
 "metadata": {
  "kernelspec": {
   "display_name": "Python 3",
   "language": "python",
   "name": "python3"
  },
  "language_info": {
   "codemirror_mode": {
    "name": "ipython",
    "version": 3
   },
   "file_extension": ".py",
   "mimetype": "text/x-python",
   "name": "python",
   "nbconvert_exporter": "python",
   "pygments_lexer": "ipython3",
   "version": "3.11.4"
  }
 },
 "nbformat": 4,
 "nbformat_minor": 5
}
